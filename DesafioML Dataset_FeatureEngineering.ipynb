{
 "cells": [
  {
   "cell_type": "code",
   "execution_count": 2,
   "metadata": {},
   "outputs": [],
   "source": [
    "#cargo paquetes\n",
    "import pandas as pd\n",
    "import requests\n",
    "import numpy as np\n",
    "from datetime import datetime\n",
    "import re"
   ]
  },
  {
   "cell_type": "markdown",
   "metadata": {},
   "source": [
    "## Extraigo datos a partir las APIs de desarrolladores\n",
    "https://developers.mercadolibre.com.ar/es_ar/api-docs-es"
   ]
  },
  {
   "cell_type": "markdown",
   "metadata": {},
   "source": [
    "#### Traigo las categorías generales"
   ]
  },
  {
   "cell_type": "code",
   "execution_count": null,
   "metadata": {},
   "outputs": [],
   "source": [
    "# Api de Categorias Generales\n",
    "URL = \"https://api.mercadolibre.com/sites/MLA/categories\""
   ]
  },
  {
   "cell_type": "code",
   "execution_count": 3,
   "metadata": {},
   "outputs": [],
   "source": [
    "# envio la request y guardo la response\n",
    "r = requests.get(url = URL) \n",
    "\n",
    "# extraigo la info de categorias en formato json\n",
    "categories = r.json()"
   ]
  },
  {
   "cell_type": "markdown",
   "metadata": {},
   "source": [
    "#### Traigo las categorias (children categories)"
   ]
  },
  {
   "cell_type": "code",
   "execution_count": null,
   "metadata": {},
   "outputs": [],
   "source": [
    "# Parametros\n",
    "URL = \"https://api.mercadolibre.com/categories/\"\n",
    "category_id_key = 'id'\n",
    "category_name_key= 'name'\n",
    "subcats_key = 'children_categories'\n",
    "categories_dataset_filename = 'categories.csv'\n"
   ]
  },
  {
   "cell_type": "code",
   "execution_count": null,
   "metadata": {},
   "outputs": [],
   "source": [
    "# Traigo las categorias de cada categoria general\n",
    "children_categories = []\n",
    "\n",
    "for c in categories:\n",
    "    category_id = c.get(category_id_key)\n",
    "    category_name= c.get(category_name_key)\n",
    "    r = requests.get(url = URL+category_id) \n",
    "    c_info = r.json()[subcats_key]\n",
    "    for ci in c_info:\n",
    "        ci['mother_id'] = category_id\n",
    "        ci['mother_name'] = category_name\n",
    "        children_categories.append(ci)\n",
    "\n",
    "#genero dataframe y lo grabo\n",
    "children_categories_df = pd.DataFrame(children_categories)\n",
    "children_categories_df.to_csv(categories_dataset_filename)"
   ]
  },
  {
   "cell_type": "markdown",
   "metadata": {},
   "source": [
    "#### Traigo items ids por categoria"
   ]
  },
  {
   "cell_type": "code",
   "execution_count": null,
   "metadata": {},
   "outputs": [],
   "source": [
    "#Parametros\n",
    "URL = \"https://api.mercadolibre.com/sites/MLA/search\"\n",
    "\n",
    "items_category_dataset_filename = 'items_categoria.csv'"
   ]
  },
  {
   "cell_type": "code",
   "execution_count": null,
   "metadata": {},
   "outputs": [],
   "source": [
    "#traigo los 1000 items_id disponibles por cada categoría\n",
    "items=[]\n",
    "\n",
    "for cc in children_categories:\n",
    "    category_id = cc.get('id')\n",
    "    n_items = cc.get('total_items_in_this_category')\n",
    "    if n_items > 1000:\n",
    "        for i in range(0,1000,50):\n",
    "            offset = i\n",
    "            # defining a params dict for the parameters to be sent to the API \n",
    "            PARAMS = {'category':category_id, 'offset': offset} \n",
    "            # sending get request and saving the response as response object \n",
    "            r = requests.get(url = URL, params = PARAMS) \n",
    "            # extracting data in json format \n",
    "            data = r.json()\n",
    "            # elijo results\n",
    "            items_ = data.get('results',None)\n",
    "            if items_ is not None:\n",
    "                for i in items_:\n",
    "                    i_ = {'id':i.get('id', None)}\n",
    "                    i_['categoria_id']= category_id\n",
    "                    items.append(i_)\n",
    "    else:\n",
    "        for i in range(0, n_items, 50):\n",
    "            offset = i\n",
    "            PARAMS = {'category':category_id, 'offset': offset} \n",
    "            r = requests.get(url = URL, params = PARAMS) \n",
    "            data = r.json()\n",
    "            items_ = data.get('results',None)\n",
    "            if items_ is not None:\n",
    "                for i in items_:\n",
    "                    i_ = {'id':i.get('id', None)}\n",
    "                    i_['categoria_id']= category_id\n",
    "                    items.append(i_)\n",
    "\n",
    "        \n",
    "#genero dataframe y grabo\n",
    "items_categoria = pd.DataFrame(items)\n",
    "items_categoria.to_csv(items_category_dataset_filename)"
   ]
  },
  {
   "cell_type": "markdown",
   "metadata": {},
   "source": [
    "#### Traigo data de items a partir de sus ids"
   ]
  },
  {
   "cell_type": "code",
   "execution_count": null,
   "metadata": {},
   "outputs": [],
   "source": [
    "#parametros\n",
    "URL = 'https://api.mercadolibre.com/items'\n",
    "\n",
    "items_dataset_filename = 'items_body.pkl'"
   ]
  },
  {
   "cell_type": "code",
   "execution_count": null,
   "metadata": {},
   "outputs": [],
   "source": [
    "items2 =[]\n",
    "items_no_encontrados=[]\n",
    "\n",
    "n_items = items_categoria.shape[0]\n",
    "\n",
    "# recorro en intervalos de 20 ya que es el limite de multiget de la api items\n",
    "for i in range(0,n_items, 20):\n",
    "    \n",
    "    ids= list(items_categoria.id[i:i+20])\n",
    "    ids_= \",\".join(ids)\n",
    "    PARAMS = {'ids': ids_}  \n",
    "    try:\n",
    "        r = requests.get(url = URL, params = PARAMS) \n",
    "  \n",
    "    # extracting data in json format \n",
    "        items_2 = r.json() \n",
    "        items2.append(items_2)\n",
    "    except:\n",
    "        items_no_encontrados.append(ids)\n",
    "        \n"
   ]
  },
  {
   "cell_type": "code",
   "execution_count": null,
   "metadata": {},
   "outputs": [],
   "source": [
    "#aplano la lista de listas resultantes del loop      \n",
    "flat_items = [item for sublist in items2 for item in sublist]\n",
    "\n",
    "#genero DataFrame\n",
    "items_df = pd.DataFrame(flat_items)\n",
    "\n",
    "#genero DataFrame con solo el body de la response ya que tambien se guarda un campo del code\n",
    "items_body = pd.DataFrame(list(items_df[items_df.code == 200].body))\n",
    "\n",
    "#grabo DataFrame\n",
    "items_body.to_pickle(items_dataset_filename)"
   ]
  },
  {
   "cell_type": "markdown",
   "metadata": {},
   "source": [
    "## Generación de dataset"
   ]
  },
  {
   "cell_type": "code",
   "execution_count": null,
   "metadata": {},
   "outputs": [],
   "source": [
    "#Parametro\n",
    "datasetfinal_filename= 'items_featselected.csv.gz'"
   ]
  },
  {
   "cell_type": "code",
   "execution_count": null,
   "metadata": {},
   "outputs": [],
   "source": [
    "#elimino duplicados\n",
    "items_categoria.drop_duplicates(subset=['id'], inplace=True)\n",
    "items_body.drop_duplicates(subset=['id'], inplace=True)\n",
    "\n",
    "#realizo join para traer el id de categoria consistente con el dataframe categorias\n",
    "items = items_body.merge(items_categoria, on='id', how='inner', validate = 'one_to_one')"
   ]
  },
  {
   "cell_type": "markdown",
   "metadata": {},
   "source": [
    "### Generación de features"
   ]
  },
  {
   "cell_type": "markdown",
   "metadata": {},
   "source": [
    "funciones auxiliares"
   ]
  },
  {
   "cell_type": "code",
   "execution_count": null,
   "metadata": {},
   "outputs": [],
   "source": [
    "#funcion auxiliar para traer valor de campo que es un diccionario\n",
    "def traer_dictvalue(diccionario, key):\n",
    "    if  pd.isnull(diccionario):\n",
    "        return None\n",
    "    else:\n",
    "        return(diccionario.get(key))\n",
    "\n",
    "#funcion auxiliar calcular diferencia entre valor y su promedio_por_categoria\n",
    "def diff_mean_cat(x):\n",
    "    promedio_categoria = x.groupby(items['categoria_id']).transform('mean')\n",
    "    diff = x - promedio_categoria\n",
    "    return diff\n",
    "\n",
    "\n",
    "#funcion auxiliar para calcular dias entre una fecha(como string) y hoy\n",
    "def daydiff_today(fecha):\n",
    "    if pd.isnull(fecha):\n",
    "        return None\n",
    "\n",
    "    else:\n",
    "        fecha_date = datetime.strptime(re.sub('T.*$','',fecha), '%Y-%m-%d')\n",
    "        daydiff = (fecha_date-datetime.today()).days\n",
    "        return daydiff\n",
    "    \n",
    "#funcion auxiliar para traer largo de lista   \n",
    "def largo_lista(lista):\n",
    "    try:\n",
    "        return len(lista)\n",
    "    except:\n",
    "        return 0\n",
    "    \n",
    "#funcion auxiliar para encontrar valor lista   \n",
    "def valor_en_lista(lista, valor):\n",
    "    try:\n",
    "        return int(valor in lista)\n",
    "    except:\n",
    "        return 0\n",
    "            "
   ]
  },
  {
   "cell_type": "code",
   "execution_count": null,
   "metadata": {},
   "outputs": [],
   "source": [
    "#genero campos flag\n",
    "items['flg_descuento'] = np.where(np.isnan(items['original_price']), 0, 1)\n",
    "items['flg_official_store'] = np.where(np.isnan(items.official_store_id), 0, 1)\n",
    "items['flg_brand_verified'] = items.tags.apply(lambda x : valor_en_lista(x, 'brand_verified'))\n",
    "\n",
    "\n",
    "#genero campos relacionados con fechas\n",
    "items['daydiff_stoptime'] =items.stop_time.apply(daydiff_today)\n",
    "items['daydiff_starttime'] =items.start_time.apply(daydiff_today)\n",
    "items['daydiff_update'] =items.last_updated.apply(daydiff_today)\n",
    "\n",
    "\n",
    "#genero campos traidos de diccionarios\n",
    "items['provincia'] = items.seller_address.apply(traer_dictvalue, key='state').apply(traer_dictvalue, key='name')\n",
    "items['freeshipping'] = items.shipping.apply(traer_dictvalue, key='free_shipping')\n",
    "\n",
    "\n",
    "#genero campos relacionados con quantities\n",
    "items['diff_intquan_avlquan'] = items['initial_quantity'] - items['available_quantity']\n",
    "items['pct_avlquan_intquan'] = np.divide(items['available_quantity'], items['initial_quantity'])\n",
    "\n",
    "\n",
    "\n",
    "#genero otros campos\n",
    "#cantidad de fotos\n",
    "items['n_pictures'] = items.pictures.apply(largo_lista)\n",
    "#cantidad de atributos\n",
    "items['n_atribbutes'] = items.attributes.apply(largo_lista)\n",
    "#valor de descuento\n",
    "items['valor_descuento'] = items.original_price - items.price\n",
    "\n",
    "\n",
    "#genero campos con data relativa a la categoria\n",
    "items['diff_mean_cat_avlquan'] = diff_mean_cat(items['available_quantity'])\n",
    "items['diff_mean_cat_iniquan'] = diff_mean_cat(items['initial_quantity'])\n",
    "items['diff_mean_cat_pct_avliniquan'] = diff_mean_cat(items['pct_avlquan_intquan'])\n",
    "items['diff_mean_cat_diff_iniavlquan'] = diff_mean_cat(items['diff_intquan_avlquan'])\n",
    "items['diff_mean_cat_price'] = diff_mean_cat(items['price'])\n"
   ]
  },
  {
   "cell_type": "code",
   "execution_count": null,
   "metadata": {},
   "outputs": [],
   "source": [
    "#Selecciono los campos de interes y grabo archivo\n",
    "campos_de_interes = ['id', 'price','valor_descuento', 'initial_quantity', 'available_quantity', 'sold_quantity', \n",
    "                   'listing_type_id','condition', 'status', 'categoria_id',\n",
    "                   'flg_descuento', 'flg_official_store', 'flg_brand_verified',\n",
    "                   'daydiff_stoptime', 'daydiff_starttime', 'daydiff_update', 'provincia',\n",
    "                   'freeshipping', 'diff_intquan_avlquan', 'pct_avlquan_intquan',\n",
    "                   'n_pictures', 'n_atribbutes', 'diff_mean_cat_avlquan',\n",
    "                   'diff_mean_cat_iniquan', 'diff_mean_cat_pct_avliniquan',\n",
    "                   'diff_mean_cat_diff_iniavlquan', 'diff_mean_cat_price']\n",
    "\n",
    "\n",
    "items_featureselected = items[campos_de_interes]\n",
    "items_featureselected.to_csv(datasetfinal_filename, index=False)"
   ]
  },
  {
   "cell_type": "markdown",
   "metadata": {},
   "source": [
    "Posible mejora: Traer el dato de cantidad preguntas por productos"
   ]
  }
 ],
 "metadata": {
  "kernelspec": {
   "display_name": "Python 3",
   "language": "python",
   "name": "python3"
  },
  "language_info": {
   "codemirror_mode": {
    "name": "ipython",
    "version": 3
   },
   "file_extension": ".py",
   "mimetype": "text/x-python",
   "name": "python",
   "nbconvert_exporter": "python",
   "pygments_lexer": "ipython3",
   "version": "3.8.3"
  }
 },
 "nbformat": 4,
 "nbformat_minor": 4
}
